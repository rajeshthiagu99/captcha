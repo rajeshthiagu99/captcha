{
  "nbformat": 4,
  "nbformat_minor": 0,
  "metadata": {
    "colab": {
      "provenance": []
    },
    "kernelspec": {
      "name": "python3",
      "display_name": "Python 3"
    },
    "language_info": {
      "name": "python"
    }
  },
  "cells": [
    {
      "cell_type": "code",
      "execution_count": null,
      "metadata": {
        "id": "2D-xIczfpu2I"
      },
      "outputs": [],
      "source": [
        "import tensorflow as tf"
      ]
    },
    {
      "cell_type": "code",
      "source": [
        "tf.__version__"
      ],
      "metadata": {
        "colab": {
          "base_uri": "https://localhost:8080/",
          "height": 37
        },
        "id": "yDoq04575ncc",
        "outputId": "5c012b41-eb5d-4d8f-cf9f-957babe81a68"
      },
      "execution_count": null,
      "outputs": [
        {
          "output_type": "execute_result",
          "data": {
            "text/plain": [
              "'2.9.2'"
            ],
            "application/vnd.google.colaboratory.intrinsic+json": {
              "type": "string"
            }
          },
          "metadata": {},
          "execution_count": 3
        }
      ]
    },
    {
      "cell_type": "code",
      "source": [
        "# pip install tensorflow==2.9.1"
      ],
      "metadata": {
        "id": "EH2EKpwz89yA"
      },
      "execution_count": null,
      "outputs": []
    },
    {
      "cell_type": "code",
      "source": [
        "import os\n",
        "import numpy as np\n",
        "import matplotlib.pyplot as plt\n",
        "\n",
        "from pathlib import Path \n",
        "from collections import Counter\n",
        "\n",
        "import tensorflow as tf\n",
        "from tensorflow import keras\n",
        "from tensorflow.keras import layers\n",
        "\n",
        "model_loaded = keras.models.load_model('/content/final_model.h5', compile=False)\n",
        "img_width = 100\n",
        "img_height = 40\n",
        "# Mapping integers back to original characters\n",
        "num_to_char_1 = layers.experimental.preprocessing.StringLookup(\n",
        "    vocabulary=['I',\n",
        " 'N',\n",
        " 'Q',\n",
        " 'Y',\n",
        " 'T',\n",
        " 'F',\n",
        " 'Z',\n",
        " 'D',\n",
        " 'X',\n",
        " 'E',\n",
        " 'P',\n",
        " '8',\n",
        " '2',\n",
        " 'S',\n",
        " 'L',\n",
        " 'H',\n",
        " 'M',\n",
        " 'A',\n",
        " 'V',\n",
        " 'W',\n",
        " '5',\n",
        " '6',\n",
        " 'C',\n",
        " 'B',\n",
        " 'R',\n",
        " '1',\n",
        " '7',\n",
        " '3',\n",
        " '9',\n",
        " 'G',\n",
        " 'U',\n",
        " 'J',\n",
        " '4',\n",
        " 'K'], mask_token=None, invert=True, num_oov_indices=0,oov_token=''\n",
        ")\n",
        "\n",
        "\n",
        "def encode_single_sample(img_path):\n",
        "    # 1. Read image\n",
        "    img = tf.io.read_file(img_path)\n",
        "    # 2. Decode and convert to grayscale\n",
        "    img = tf.io.decode_png(img, channels=1)\n",
        "    # 3. Convert to float32 in [0, 1] range\n",
        "    img = tf.image.convert_image_dtype(img, tf.float32)\n",
        "    # 4. Resize to the desired size\n",
        "    img = tf.image.resize(img, [img_height, img_width])\n",
        "    # 5. Transpose the image because we want the time\n",
        "    # dimension to correspond to the width of the image.\n",
        "    img = tf.transpose(img, perm=[1, 0, 2])\n",
        "    img = tf.expand_dims(img, axis=0)\n",
        "    # 6. Map the characters in label to numbers\n",
        "    preds = model_loaded.predict(img)\n",
        "    pred_texts = decode_batch_predictions(preds)\n",
        "    return pred_texts\n",
        "\n",
        "# A utility function to decode the output of the network\n",
        "def decode_batch_predictions(pred):\n",
        "    input_len = np.ones(pred.shape[0]) * pred.shape[1]\n",
        "    print(input_len)\n",
        "\n",
        "    # Use greedy search. For complex tasks, you can use beam search\n",
        "    results = keras.backend.ctc_decode(pred, input_length=input_len, greedy=True)[0][0][:, : 4]\n",
        "    # Iterate over the results and get back the text\n",
        "    output_text = []\n",
        "    for res in results:\n",
        "        res = tf.strings.reduce_join(num_to_char_1(res)).numpy().decode(\"utf-8\")\n",
        "        output_text.append(res)\n",
        "    return output_text\n",
        "\n",
        "\n",
        "encode_single_sample('/content/4L1T.png')"
      ],
      "metadata": {
        "colab": {
          "base_uri": "https://localhost:8080/"
        },
        "id": "rmOOz9rL56Vo",
        "outputId": "8502ffba-3751-4e8e-908c-a74fe41d9713"
      },
      "execution_count": null,
      "outputs": [
        {
          "output_type": "stream",
          "name": "stdout",
          "text": [
            "1/1 [==============================] - 2s 2s/step\n",
            "[25.]\n"
          ]
        },
        {
          "output_type": "execute_result",
          "data": {
            "text/plain": [
              "['4LT']"
            ]
          },
          "metadata": {},
          "execution_count": 14
        }
      ]
    },
    {
      "cell_type": "code",
      "source": [],
      "metadata": {
        "id": "oORzb94BlZUK"
      },
      "execution_count": null,
      "outputs": []
    }
  ]
}